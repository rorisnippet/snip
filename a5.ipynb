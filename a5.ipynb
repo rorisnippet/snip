{
 "cells": [
  {
   "cell_type": "code",
   "execution_count": 1,
   "metadata": {},
   "outputs": [],
   "source": [
    "import copy"
   ]
  },
  {
   "cell_type": "code",
   "execution_count": 2,
   "metadata": {},
   "outputs": [
    {
     "name": "stdout",
     "output_type": "stream",
     "text": [
      "[[], [], [], ['B', 'C', 'D', 'A']]\n",
      "[['A'], [], [], ['B', 'C', 'D']]\n",
      "[['A', 'D'], [], [], ['B', 'C']]\n",
      "[['A'], ['D'], [], ['B', 'C']]\n",
      "[['A'], ['D'], ['C'], ['B']]\n",
      "[['A', 'B'], ['D'], ['C'], []]\n",
      "[['A', 'B', 'C'], ['D'], [], []]\n",
      "[['A', 'B', 'C', 'D'], [], [], []]\n",
      "Final state -  [['A', 'B', 'C', 'D'], [], [], []]\n"
     ]
    }
   ],
   "source": [
    "visited_states = []\n",
    "\n",
    "# heuristic fn - number of misplaced blocks as compared to goal state \n",
    "def heuristic(curr_state,goal_state):\n",
    "    goal_=goal_state[3]\n",
    "    val=0\n",
    "    for i in range(len(curr_state)):\n",
    "        check_val=curr_state[i]\n",
    "        if len(check_val)>0:\n",
    "            for j in range(len(check_val)):\n",
    "                if check_val[j]!=goal_[j]:\n",
    "                    # val-=1\n",
    "                    val-=j\n",
    "                else:\n",
    "                    # val+=1\n",
    "                    val+=j\n",
    "    return val\n",
    "            \n",
    "# generate next possible solution for the current state\n",
    "def generate_next(curr_state,prev_heu,goal_state):\n",
    "    global visited_states\n",
    "    state = copy.deepcopy(curr_state)\n",
    "    for i in range(len(state)):\n",
    "        temp = copy.deepcopy(state)\n",
    "        if len(temp[i]) > 0:\n",
    "            elem = temp[i].pop()\n",
    "            for j in range(len(temp)):\n",
    "                temp1 = copy.deepcopy(temp)\n",
    "                if j != i:\n",
    "                    temp1[j] = temp1[j] + [elem]\n",
    "                    if (temp1 not in visited_states):\n",
    "                        curr_heu=heuristic(temp1,goal_state)\n",
    "                        # if a better state than previous state of found\n",
    "                        if curr_heu>prev_heu:\n",
    "                            child = copy.deepcopy(temp1)\n",
    "                            return child\n",
    "    \n",
    "    # no better soln than current state is possible\n",
    "    return 0\n",
    "\n",
    "def solution_(init_state,goal_state):\n",
    "    global visited_states\n",
    "\n",
    "    # checking if initial state is already the final state\n",
    "    if (init_state == goal_state):\n",
    "        print (goal_state)\n",
    "        print(\"solution found!\")\n",
    "        return\n",
    "    \n",
    "    current_state = copy.deepcopy(init_state)\n",
    "    \n",
    "    # loop while goal is found or no better optimal solution is possible\n",
    "    while(True):\n",
    "\n",
    "        # add current state to visited to avoid repetition\n",
    "        visited_states.append(copy.deepcopy(current_state))\n",
    "\n",
    "        print(current_state)\n",
    "        prev_heu=heuristic(current_state,goal_state)\n",
    "\n",
    "        # generate possible better child from current state\n",
    "        child = generate_next(current_state,prev_heu,goal_state)\n",
    "        \n",
    "        # No more better states are possible\n",
    "        if child==0:\n",
    "            print(\"Final state - \",current_state)\n",
    "            return\n",
    "            \n",
    "        # change current state to child\n",
    "        current_state = copy.deepcopy(child)  \n",
    "\n",
    "def solver():\n",
    "    # maintaining a global visited to save all visited and avoid repetition & infinite loop condition\n",
    "    global visited_states\n",
    "    # inputs\n",
    "    init_state = [[],[],[],['B','C','D','A']]\n",
    "    goal_state = [[],[],[],['A','B','C','D']]\n",
    "    # goal_state = [[],[],[],['A','D','C','B']]\n",
    "    solution_(init_state,goal_state)\n",
    "\n",
    "solver()\n"
   ]
  }
 ],
 "metadata": {
  "kernelspec": {
   "display_name": "Python 3",
   "language": "python",
   "name": "python3"
  },
  "language_info": {
   "codemirror_mode": {
    "name": "ipython",
    "version": 3
   },
   "file_extension": ".py",
   "mimetype": "text/x-python",
   "name": "python",
   "nbconvert_exporter": "python",
   "pygments_lexer": "ipython3",
   "version": "3.11.9"
  }
 },
 "nbformat": 4,
 "nbformat_minor": 2
}
